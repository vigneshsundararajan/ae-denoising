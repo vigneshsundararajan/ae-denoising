{
  "nbformat": 4,
  "nbformat_minor": 0,
  "metadata": {
    "colab": {
      "name": "CNN-Autoencoder.ipynb",
      "provenance": []
    },
    "kernelspec": {
      "name": "python3",
      "display_name": "Python 3"
    },
    "language_info": {
      "name": "python"
    }
  },
  "cells": [
    {
      "cell_type": "markdown",
      "source": [
        "# Loading the data and adding noise to it\n",
        "---\n",
        "- We use the MNIST dataset and add a Gaussian noise with a mean of 0 and a standard deviation of 0.3 to create the noisy dataset."
      ],
      "metadata": {
        "id": "ZjHg1Vt1cvp1"
      }
    },
    {
      "cell_type": "code",
      "execution_count": 6,
      "metadata": {
        "colab": {
          "base_uri": "https://localhost:8080/"
        },
        "id": "RK993s6ichIq",
        "outputId": "48c262b6-4005-4159-d7ae-677ee09a862e"
      },
      "outputs": [
        {
          "output_type": "stream",
          "name": "stdout",
          "text": [
            "1.0\n",
            "0.0\n"
          ]
        }
      ],
      "source": [
        "# Import and load MNIST data\n",
        "import torchvision\n",
        "import torch\n",
        "import matplotlib.pyplot as plt\n",
        "\n",
        "\n",
        "class AddGaussianNoise(object):\n",
        "    def __init__(self, mean=0., std=0.5):\n",
        "        self.std = std\n",
        "        self.mean = mean\n",
        "        \n",
        "    def __call__(self, tensor):\n",
        "        noisy = tensor + torch.randn(tensor.size()) * self.std + self.mean\n",
        "        return torch.clip(noisy, 0., 1.)\n",
        "\n",
        "\n",
        "transform_noisy = torchvision.transforms.Compose([torchvision.transforms.ToTensor(), AddGaussianNoise(0.,0.3)])\n",
        "transform_original = torchvision.transforms.Compose([torchvision.transforms.ToTensor()])\n",
        "\n",
        "train_dataset_noisy = torchvision.datasets.MNIST('data', train=True, download=True, transform=transform_noisy)\n",
        "train_dataset_original = torchvision.datasets.MNIST('data', train=True, download=True, transform=transform_original)\n",
        "test_dataset_noisy = torchvision.datasets.MNIST('data', train=False, download=True, transform=transform_noisy)\n",
        "test_dataset_original = torchvision.datasets.MNIST('data', train=False, download=True, transform=transform_original)\n",
        "\n",
        "print(torch.max(train_dataset_noisy.__getitem__(0)[0]).item())\n",
        "print(torch.min(train_dataset_noisy.__getitem__(0)[0]).item())"
      ]
    },
    {
      "cell_type": "markdown",
      "source": [
        "# Concatenating the noisy and original dataset\n",
        "---"
      ],
      "metadata": {
        "id": "IILf91wufQqx"
      }
    },
    {
      "cell_type": "code",
      "source": [
        "class ConcatDataset(torch.utils.data.Dataset):\n",
        "  def __init__(self, *datasets):\n",
        "    self.datasets = datasets\n",
        "\n",
        "  def __getitem__(self, i):\n",
        "    return tuple(d[i][0] for d in self.datasets)\n",
        "\n",
        "  def __len__(self):\n",
        "    return min(len(d) for d in self.datasets)\n",
        "\n",
        "\n",
        "batch_size_train, batch_size_test = 64, 1000\n",
        "train_loader = torch.utils.data.DataLoader(ConcatDataset(train_dataset_noisy, train_dataset_original),\n",
        "                      batch_size=batch_size_train, shuffle=True)\n",
        "test_loader = torch.utils.data.DataLoader(ConcatDataset(test_dataset_noisy, test_dataset_original),\n",
        "                      batch_size=batch_size_test, shuffle=False)\n",
        "\n",
        "_, (noisy, original) = next(enumerate(train_loader))\n",
        "\n",
        "fig,ax = plt.subplots(2,3)\n",
        "fig.set_size_inches(12,8)\n",
        "for idx in range(3):\n",
        "  ax[0,idx].imshow(original[idx][0], cmap='gray')\n",
        "  ax[1,idx].imshow(noisy[idx][0], cmap='gray')\n",
        "fig.show()"
      ],
      "metadata": {
        "colab": {
          "base_uri": "https://localhost:8080/",
          "height": 483
        },
        "id": "0fOQK0PdfQI9",
        "outputId": "99ec3c4a-290c-49a4-c7ce-bbf2be65eefd"
      },
      "execution_count": 7,
      "outputs": [
        {
          "output_type": "display_data",
          "data": {
            "text/plain": [
              "<Figure size 864x576 with 6 Axes>"
            ],
            "image/png": "[encoded data removed]"
          },
          "metadata": {
            "needs_background": "light"
          }
        }
      ]
    },
    {
      "cell_type": "markdown",
      "source": [
        "# Creating the denoising autoencoder model\n",
        "---"
      ],
      "metadata": {
        "id": "rY_dDmpXfrsb"
      }
    },
    {
      "cell_type": "code",
      "source": [
        "import torch.nn as nn\n",
        "import torch.nn.functional as F\n",
        "import torch.optim as optim\n",
        "import matplotlib.pyplot as plt\n",
        "\n",
        "device = 'cuda' if torch.cuda.is_available()==True else 'cpu'\n",
        "device = torch.device(device)\n",
        "\n",
        "class DenoisingAutoEncoder(nn.Module):\n",
        "  def __init__(self):\n",
        "    super(DenoisingAutoEncoder, self).__init__()\n",
        "\n",
        "\n",
        "    ########################################\n",
        "    # Encoder layers\n",
        "    self.conv1 = nn.Conv2d(1, 16, 3, padding=1)\n",
        "    self.conv2 = nn.Conv2d(16, 32, 3,padding=1)\n",
        "    self.pool = nn.MaxPool2d(2, 2)\n",
        "\n",
        "   #########################################\n",
        "    # Decoder layers\n",
        "    self.de_conv1 = nn.ConvTranspose2d(32, 16, 2, stride=2)\n",
        "    self.de_conv2 = nn.ConvTranspose2d(16, 1, 2, stride=2)\n",
        "\n",
        "   ##########################################\n",
        "\n",
        "  def forward(self, x):\n",
        "\n",
        "    # encoding layers\n",
        "    x = F.relu(self.conv1(x))\n",
        "    x = self.pool(x)\n",
        "    x = F.relu(self.conv2(x))\n",
        "    x = self.pool(x)\n",
        "\n",
        "    ## decoding layers\n",
        "    x = F.relu(self.de_conv1(x))\n",
        "    x = F.sigmoid(self.de_conv2(x))   \n",
        "\n",
        "    return x"
      ],
      "metadata": {
        "id": "y33gGp0DfsLq"
      },
      "execution_count": 11,
      "outputs": []
    },
    {
      "cell_type": "code",
      "source": [
        "# Initializing the model and setting the initial hyperparameters\n",
        "AE = DenoisingAutoEncoder().to(device)\n",
        "optimizer = optim.Adam(AE.parameters(), lr=0.001)\n",
        "loss_fn = nn.MSELoss(reduction='sum')"
      ],
      "metadata": {
        "id": "qDnczw9cgldO"
      },
      "execution_count": 12,
      "outputs": []
    },
    {
      "cell_type": "markdown",
      "source": [
        "# Training the model on the data\n",
        "---"
      ],
      "metadata": {
        "id": "0FCEqlUdgh0M"
      }
    },
    {
      "cell_type": "code",
      "source": [
        "def train(epoch, device):\n",
        "\n",
        "  AE.train() # we need to set the mode for our model\n",
        "\n",
        "  for batch_idx, (images, _) in enumerate(train_loader): # Note that we do not need the labels\n",
        "\n",
        "    optimizer.zero_grad()\n",
        "    images = images.to(device)\n",
        "    output = AE(images)\n",
        "    loss = loss_fn(output, images) # Here is a typical loss function (Mean square error)\n",
        "    loss.backward()\n",
        "    optimizer.step()\n",
        "\n",
        "    if batch_idx % 10 == 0: # We record our output every 10 batches\n",
        "      train_losses.append(loss.item()/batch_size_train) # item() is to get the value of the tensor directly\n",
        "      train_counter.append(\n",
        "        (batch_idx*64) + ((epoch-1)*len(train_loader.dataset)))\n",
        "    if batch_idx % 100 == 0: # We visulize our output every 100 batches\n",
        "      print(f'Epoch {epoch}: [{batch_idx*len(images)}/{len(train_loader.dataset)}] Loss: {loss.item()/batch_size_train}')\n",
        "\n",
        "\n",
        "def test(epoch, device):\n",
        "\n",
        "  AE.eval() # we need to set the mode for our model\n",
        "\n",
        "  test_loss = 0\n",
        "  correct = 0\n",
        "\n",
        "  with torch.no_grad():\n",
        "    for images, _ in test_loader:\n",
        "      images = images.to(device)\n",
        "      output = AE(images)\n",
        "      test_loss += loss_fn(output, images).item()\n",
        "  \n",
        "  test_loss /= len(test_loader.dataset)\n",
        "  test_losses.append(test_loss)\n",
        "  test_counter.append(len(train_loader.dataset)*epoch)\n",
        "\n",
        "  print(f'Test result on epoch {epoch}: Avg loss is {test_loss}\\n')\n",
        "\n",
        "\n",
        "train_losses = []\n",
        "train_counter = []\n",
        "test_losses = []\n",
        "test_counter = []\n",
        "max_epoch = 10\n",
        "\n",
        "for epoch in range(1, max_epoch+1):\n",
        "  train(epoch, device=device)\n",
        "  test(epoch, device=device)"
      ],
      "metadata": {
        "colab": {
          "base_uri": "https://localhost:8080/"
        },
        "id": "PSSH3Ny1gaoP",
        "outputId": "6305472d-a847-40f6-8504-b1be68c63ee3"
      },
      "execution_count": 13,
      "outputs": [
        {
          "output_type": "stream",
          "name": "stderr",
          "text": [
            "/usr/local/lib/python3.7/dist-packages/torch/nn/functional.py:1960: UserWarning: nn.functional.sigmoid is deprecated. Use torch.sigmoid instead.\n",
            "  warnings.warn(\"nn.functional.sigmoid is deprecated. Use torch.sigmoid instead.\")\n"
          ]
        },
        {
          "output_type": "stream",
          "name": "stdout",
          "text": [
            "Epoch 1: [0/60000] Loss: 131.3927459716797\n",
            "Epoch 1: [6400/60000] Loss: 46.08645248413086\n",
            "Epoch 1: [12800/60000] Loss: 34.68865203857422\n",
            "Epoch 1: [19200/60000] Loss: 31.8262882232666\n",
            "Epoch 1: [25600/60000] Loss: 28.507667541503906\n",
            "Epoch 1: [32000/60000] Loss: 27.71334457397461\n",
            "Epoch 1: [38400/60000] Loss: 26.40777587890625\n",
            "Epoch 1: [44800/60000] Loss: 25.777515411376953\n",
            "Epoch 1: [51200/60000] Loss: 25.9100284576416\n",
            "Epoch 1: [57600/60000] Loss: 24.813804626464844\n",
            "Test result on epoch 1: Avg loss is 24.658129296875\n",
            "\n",
            "Epoch 2: [0/60000] Loss: 24.38459014892578\n",
            "Epoch 2: [6400/60000] Loss: 23.75595474243164\n",
            "Epoch 2: [12800/60000] Loss: 23.390226364135742\n",
            "Epoch 2: [19200/60000] Loss: 22.92270278930664\n",
            "Epoch 2: [25600/60000] Loss: 22.17607879638672\n",
            "Epoch 2: [32000/60000] Loss: 22.150787353515625\n",
            "Epoch 2: [38400/60000] Loss: 22.110971450805664\n",
            "Epoch 2: [44800/60000] Loss: 22.111711502075195\n",
            "Epoch 2: [51200/60000] Loss: 21.817209243774414\n",
            "Epoch 2: [57600/60000] Loss: 21.383953094482422\n",
            "Test result on epoch 2: Avg loss is 21.4057802734375\n",
            "\n",
            "Epoch 3: [0/60000] Loss: 21.634418487548828\n",
            "Epoch 3: [6400/60000] Loss: 21.144081115722656\n",
            "Epoch 3: [12800/60000] Loss: 21.134605407714844\n",
            "Epoch 3: [19200/60000] Loss: 20.688613891601562\n",
            "Epoch 3: [25600/60000] Loss: 20.813312530517578\n",
            "Epoch 3: [32000/60000] Loss: 20.930763244628906\n",
            "Epoch 3: [38400/60000] Loss: 20.733158111572266\n",
            "Epoch 3: [44800/60000] Loss: 20.861934661865234\n",
            "Epoch 3: [51200/60000] Loss: 20.07423210144043\n",
            "Epoch 3: [57600/60000] Loss: 20.360610961914062\n",
            "Test result on epoch 3: Avg loss is 20.124675\n",
            "\n",
            "Epoch 4: [0/60000] Loss: 20.49686050415039\n",
            "Epoch 4: [6400/60000] Loss: 19.613832473754883\n",
            "Epoch 4: [12800/60000] Loss: 20.378620147705078\n",
            "Epoch 4: [19200/60000] Loss: 19.378677368164062\n",
            "Epoch 4: [25600/60000] Loss: 19.33456802368164\n",
            "Epoch 4: [32000/60000] Loss: 19.566740036010742\n",
            "Epoch 4: [38400/60000] Loss: 19.58318328857422\n",
            "Epoch 4: [44800/60000] Loss: 19.62535285949707\n",
            "Epoch 4: [51200/60000] Loss: 19.06803321838379\n",
            "Epoch 4: [57600/60000] Loss: 19.505603790283203\n",
            "Test result on epoch 4: Avg loss is 19.2507310546875\n",
            "\n",
            "Epoch 5: [0/60000] Loss: 19.350387573242188\n",
            "Epoch 5: [6400/60000] Loss: 19.184703826904297\n",
            "Epoch 5: [12800/60000] Loss: 19.080825805664062\n",
            "Epoch 5: [19200/60000] Loss: 19.344758987426758\n",
            "Epoch 5: [25600/60000] Loss: 19.24413299560547\n",
            "Epoch 5: [32000/60000] Loss: 18.832517623901367\n",
            "Epoch 5: [38400/60000] Loss: 18.674236297607422\n",
            "Epoch 5: [44800/60000] Loss: 18.838918685913086\n",
            "Epoch 5: [51200/60000] Loss: 18.28059196472168\n",
            "Epoch 5: [57600/60000] Loss: 18.572269439697266\n",
            "Test result on epoch 5: Avg loss is 18.6919521484375\n",
            "\n",
            "Epoch 6: [0/60000] Loss: 18.814430236816406\n",
            "Epoch 6: [6400/60000] Loss: 18.95368003845215\n",
            "Epoch 6: [12800/60000] Loss: 18.506383895874023\n",
            "Epoch 6: [19200/60000] Loss: 18.711505889892578\n",
            "Epoch 6: [25600/60000] Loss: 18.730792999267578\n",
            "Epoch 6: [32000/60000] Loss: 18.081798553466797\n",
            "Epoch 6: [38400/60000] Loss: 18.60979461669922\n",
            "Epoch 6: [44800/60000] Loss: 18.859867095947266\n",
            "Epoch 6: [51200/60000] Loss: 18.55635643005371\n",
            "Epoch 6: [57600/60000] Loss: 18.715349197387695\n",
            "Test result on epoch 6: Avg loss is 18.2698083984375\n",
            "\n",
            "Epoch 7: [0/60000] Loss: 18.615428924560547\n",
            "Epoch 7: [6400/60000] Loss: 18.269716262817383\n",
            "Epoch 7: [12800/60000] Loss: 17.843215942382812\n",
            "Epoch 7: [19200/60000] Loss: 18.315418243408203\n",
            "Epoch 7: [25600/60000] Loss: 18.43352508544922\n",
            "Epoch 7: [32000/60000] Loss: 18.53314781188965\n",
            "Epoch 7: [38400/60000] Loss: 17.805925369262695\n",
            "Epoch 7: [44800/60000] Loss: 17.95174217224121\n",
            "Epoch 7: [51200/60000] Loss: 18.18572235107422\n",
            "Epoch 7: [57600/60000] Loss: 17.783123016357422\n",
            "Test result on epoch 7: Avg loss is 17.973279296875\n",
            "\n",
            "Epoch 8: [0/60000] Loss: 18.042560577392578\n",
            "Epoch 8: [6400/60000] Loss: 17.841638565063477\n",
            "Epoch 8: [12800/60000] Loss: 18.02532196044922\n",
            "Epoch 8: [19200/60000] Loss: 18.30239486694336\n",
            "Epoch 8: [25600/60000] Loss: 17.56793212890625\n",
            "Epoch 8: [32000/60000] Loss: 18.289344787597656\n",
            "Epoch 8: [38400/60000] Loss: 17.863147735595703\n",
            "Epoch 8: [44800/60000] Loss: 18.086833953857422\n",
            "Epoch 8: [51200/60000] Loss: 17.88521385192871\n",
            "Epoch 8: [57600/60000] Loss: 17.19522476196289\n",
            "Test result on epoch 8: Avg loss is 17.729813671875\n",
            "\n",
            "Epoch 9: [0/60000] Loss: 17.866670608520508\n",
            "Epoch 9: [6400/60000] Loss: 17.853740692138672\n",
            "Epoch 9: [12800/60000] Loss: 18.112218856811523\n",
            "Epoch 9: [19200/60000] Loss: 17.73037338256836\n",
            "Epoch 9: [25600/60000] Loss: 17.773740768432617\n",
            "Epoch 9: [32000/60000] Loss: 17.48259925842285\n",
            "Epoch 9: [38400/60000] Loss: 17.649158477783203\n",
            "Epoch 9: [44800/60000] Loss: 17.304275512695312\n",
            "Epoch 9: [51200/60000] Loss: 17.696659088134766\n",
            "Epoch 9: [57600/60000] Loss: 17.315715789794922\n",
            "Test result on epoch 9: Avg loss is 17.50777265625\n",
            "\n",
            "Epoch 10: [0/60000] Loss: 17.280532836914062\n",
            "Epoch 10: [6400/60000] Loss: 16.9926815032959\n",
            "Epoch 10: [12800/60000] Loss: 17.786571502685547\n",
            "Epoch 10: [19200/60000] Loss: 17.700748443603516\n",
            "Epoch 10: [25600/60000] Loss: 17.18755531311035\n",
            "Epoch 10: [32000/60000] Loss: 17.79768943786621\n",
            "Epoch 10: [38400/60000] Loss: 17.484161376953125\n",
            "Epoch 10: [44800/60000] Loss: 17.11800765991211\n",
            "Epoch 10: [51200/60000] Loss: 17.21479606628418\n",
            "Epoch 10: [57600/60000] Loss: 17.124828338623047\n",
            "Test result on epoch 10: Avg loss is 17.3354560546875\n",
            "\n"
          ]
        }
      ]
    },
    {
      "cell_type": "markdown",
      "source": [
        "# Plotting the results\n",
        "---"
      ],
      "metadata": {
        "id": "sCNMvUcwgtXf"
      }
    },
    {
      "cell_type": "code",
      "source": [
        "batch_idx, (noisy, images) = next(enumerate(test_loader))\n",
        "images = images.to(device)\n",
        "output = AE(images).cpu().detach()\n",
        "images = images.cpu()\n",
        "\n",
        "print(images.size(), output.size())\n",
        "\n",
        "fig, ax = plt.subplots(3,3)\n",
        "fig.set_size_inches(12,8)\n",
        "\n",
        "for idx in range(3):\n",
        "  ax[0,idx].imshow(images[idx][0], cmap='gray')\n",
        "  ax[1,idx].imshow(noisy[idx][0], cmap='gray')\n",
        "  ax[2,idx].imshow(output[idx][0], cmap='gray')\n",
        "fig.show()"
      ],
      "metadata": {
        "colab": {
          "base_uri": "https://localhost:8080/",
          "height": 535
        },
        "id": "ScrspJ_sgwSr",
        "outputId": "d76a61ce-4690-4ffc-cada-d2be62d72d8e"
      },
      "execution_count": 14,
      "outputs": [
        {
          "output_type": "stream",
          "name": "stderr",
          "text": [
            "/usr/local/lib/python3.7/dist-packages/torch/nn/functional.py:1960: UserWarning: nn.functional.sigmoid is deprecated. Use torch.sigmoid instead.\n",
            "  warnings.warn(\"nn.functional.sigmoid is deprecated. Use torch.sigmoid instead.\")\n"
          ]
        },
        {
          "output_type": "stream",
          "name": "stdout",
          "text": [
            "torch.Size([1000, 1, 28, 28]) torch.Size([1000, 1, 28, 28])\n"
          ]
        },
        {
          "output_type": "display_data",
          "data": {
            "text/plain": [
              "<Figure size 864x576 with 9 Axes>"
            ],
            "image/png": "[encoded data removed]"
          },
          "metadata": {
            "needs_background": "light"
          }
        }
      ]
    }
  ]
}